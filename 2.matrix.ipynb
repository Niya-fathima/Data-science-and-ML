{
 "cells": [
  {
   "cell_type": "code",
   "execution_count": 4,
   "id": "23c940be-8993-4fb6-85c5-1ae192b50fa4",
   "metadata": {},
   "outputs": [
    {
     "name": "stdout",
     "output_type": "stream",
     "text": [
      "Addition:\n",
      "[[ 5  5]\n",
      " [ 5 14]]\n",
      "\n",
      "Substraction:\n",
      "[[-1  1]\n",
      " [ 3 -4]]\n",
      "\n",
      "Element-wise Multiplication:\n",
      "[[ 6  6]\n",
      " [ 4 45]]\n",
      "\n",
      "Matrix Multiplication:\n",
      "[[ 9 31]\n",
      " [17 53]]\n",
      "\n",
      "Transpose:\n",
      "[[2 4]\n",
      " [3 5]]\n"
     ]
    }
   ],
   "source": [
    "#matrix operation using numpy\n",
    "import numpy as np\n",
    "#create matrices\n",
    "A=np.array([[2,3],[4,5]])\n",
    "B=np.array([[3,2],[1,9]])\n",
    "#addition\n",
    "C=A+B\n",
    "#substraction\n",
    "D=A-B\n",
    "#Multiplication(element-wise)\n",
    "E=A*B\n",
    "#Matrix multiplication\n",
    "F=np.dot(A,B)# or A @ B\n",
    "#Transpose\n",
    "A_transpose=A.T\n",
    "print(\"Addition:\")\n",
    "print(C)\n",
    "print(\"\\nSubstraction:\" )\n",
    "print(D)\n",
    "print(\"\\nElement-wise Multiplication:\")\n",
    "print(E)\n",
    "print(\"\\nMatrix Multiplication:\")\n",
    "print(F)\n",
    "print(\"\\nTranspose:\")\n",
    "print(A_transpose)"
   ]
  },
  {
   "cell_type": "code",
   "execution_count": 6,
   "id": "0a9df4bd-41b3-42ee-b0af-ff75bee6fec7",
   "metadata": {},
   "outputs": [
    {
     "name": "stdout",
     "output_type": "stream",
     "text": [
      "Original Matrix:\n",
      "[[2 3 4]\n",
      " [5 6 7]\n",
      " [7 8 9]]\n",
      "\n",
      "Reconstructed Matrix(with reduced dimensions:)\n",
      "[[2. 3. 4.]\n",
      " [5. 6. 7.]\n",
      " [7. 8. 9.]]\n"
     ]
    }
   ],
   "source": [
    "import numpy as np\n",
    "#create a sample matrix\n",
    "X=np.array([[2,3,4],[5,6,7],[7,8,9]])\n",
    "#perform SVD\n",
    "U,S,VT=np.linalg.svd(X)\n",
    "#Choose the number of components to keep\n",
    "n_components=2\n",
    "#Reconstruct the matrix with reduced dimensions\n",
    "X_reconstructed=np.dot(U[:,:n_components],np.dot(np.diag(S[:n_components]),VT[:n_components,:]))\n",
    "print(\"Original Matrix:\")\n",
    "print(X)\n",
    "print(\"\\nReconstructed Matrix(with reduced dimensions:)\")\n",
    "print(X_reconstructed)"
   ]
  },
  {
   "cell_type": "code",
   "execution_count": null,
   "id": "c5f2b6ac-8f1a-4cd4-a7c0-6e99db24d758",
   "metadata": {},
   "outputs": [],
   "source": []
  }
 ],
 "metadata": {
  "kernelspec": {
   "display_name": "Python 3 (ipykernel)",
   "language": "python",
   "name": "python3"
  },
  "language_info": {
   "codemirror_mode": {
    "name": "ipython",
    "version": 3
   },
   "file_extension": ".py",
   "mimetype": "text/x-python",
   "name": "python",
   "nbconvert_exporter": "python",
   "pygments_lexer": "ipython3",
   "version": "3.10.12"
  }
 },
 "nbformat": 4,
 "nbformat_minor": 5
}
